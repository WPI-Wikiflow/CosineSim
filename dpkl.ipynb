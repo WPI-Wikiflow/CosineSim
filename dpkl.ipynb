{
 "cells": [
  {
   "cell_type": "code",
   "execution_count": 76,
   "metadata": {},
   "outputs": [
    {
     "name": "stdout",
     "output_type": "stream",
     "text": [
      "                            title     id  \\\n",
      "0                       Anarchism     12   \n",
      "1                          Albedo     39   \n",
      "2                               A    290   \n",
      "3                         Alabama    303   \n",
      "4                        Achilles    305   \n",
      "...                           ...    ...   \n",
      "20693           Heuristic routing  41236   \n",
      "20694        Hierarchical routing  41237   \n",
      "20695  High-performance equipment  41239   \n",
      "20696                         Hop  41240   \n",
      "20697                        Horn  41242   \n",
      "\n",
      "                                                    text  \\\n",
      "0      [anarchism, is, political, philosophy, and, mo...   \n",
      "1      [diffusely, reflected, sunlight, relative, to,...   \n",
      "2      [or, is, the, first, letter, and, the, first, ...   \n",
      "3      [alabama, is, state, in, the, southeastern, re...   \n",
      "4      [pottery, painting, dating, to, bc, of, achill...   \n",
      "...                                                  ...   \n",
      "20693  [heuristic, routing, is, system, used, to, des...   \n",
      "20694  [hierarchical, routing, is, method, of, routin...   \n",
      "20695  [high, performance, equipment, describes, equi...   \n",
      "20696  [hop, is, type, of, jump, hop, or, hops, may, ...   \n",
      "20697  [horn, most, often, refers, to, horn, acoustic...   \n",
      "\n",
      "                                          truncated_text  \\\n",
      "0      anarchism is political philosophy and movement...   \n",
      "1      diffusely reflected sunlight relative to vario...   \n",
      "2      or is the first letter and the first vowel of ...   \n",
      "3      alabama is state in the southeastern region of...   \n",
      "4      pottery painting dating to bc of achilles duri...   \n",
      "...                                                  ...   \n",
      "20693  heuristic routing is system used to describe h...   \n",
      "20694  hierarchical routing is method of routing in n...   \n",
      "20695  high performance equipment describes equipment...   \n",
      "20696  hop is type of jump hop or hops may also refer...   \n",
      "20697  horn most often refers to horn acoustic conica...   \n",
      "\n",
      "                                                 summary  \n",
      "0      Anarchist movement of libertarian socialism ha...  \n",
      "1      Earth surface albedo is the directional reflec...  \n",
      "2      'Ox head boeotian greek letter written by the ...  \n",
      "3      Alabama capital is based on automotive finance...  \n",
      "4      achilles was written by statius in the 18th ce...  \n",
      "...                                                  ...  \n",
      "20693  The heuristic routing system is used to determ...  \n",
      "20694  The routers are based on hierarchical routing ...  \n",
      "20695  The performance characteristics required for u...  \n",
      "20696  Texas steel guitar player places hop river con...  \n",
      "20697  The horn peak in the northeastern U. states ha...  \n",
      "\n",
      "[20698 rows x 5 columns]\n"
     ]
    }
   ],
   "source": [
    "#depickle a pickle file and view as a dataframe\n",
    "import pickle\n",
    "import pandas as pd\n",
    "import os\n",
    "import numpy as np\n",
    "\n",
    "\n",
    "os.chdir('C:/Users/jakef/Desktop/wikisummaries')\n",
    "with open('wiki_summaries.pkl', 'rb') as f:\n",
    "    df = pickle.load(f) \n",
    "\n",
    "print(df)\n",
    "\n"
   ]
  },
  {
   "cell_type": "code",
   "execution_count": 77,
   "metadata": {},
   "outputs": [
    {
     "data": {
      "text/plain": [
       "Index(['title', 'id', 'text', 'truncated_text', 'summary'], dtype='object')"
      ]
     },
     "execution_count": 77,
     "metadata": {},
     "output_type": "execute_result"
    }
   ],
   "source": [
    "#give all the column titles\n",
    "df.columns\n"
   ]
  },
  {
   "cell_type": "code",
   "execution_count": 78,
   "metadata": {},
   "outputs": [
    {
     "name": "stdout",
     "output_type": "stream",
     "text": [
      "'Sandpiper prosobonia leucoptera dud islands south indian ocean saint paul island architects north of India, but it is not known whether the birds represent distinct taxon or derive from prehistoric introduction by polynesian seafarers new\n",
      "Symptoms include memory loss personality changes and hallucinations myocognitive disorder, which is caused by pre-transfusion of proteins that can cause involuntary cells to become misfolded into the system as they are transmitted via normal contact or blood vessels. The disease may also be\n",
      "guatemala is one of the poorest countries in Central America, with nearly two thirds on export trade benefits under U.S caribbean laws and macroeconomic stabilization for rural poverty as much more unqual to those living below it'd beset by political immigrant rights protection\n",
      "Max von laue argues that the twins have no self-inflicted acceleration in two separate frames and one for their journey into space with each other at an interval of 2 seconds, according to his famous paper on special relativity from albert undstein'a theory about how different approaches can\n"
     ]
    },
    {
     "data": {
      "text/plain": [
       "207735"
      ]
     },
     "execution_count": 78,
     "metadata": {},
     "output_type": "execute_result"
    }
   ],
   "source": [
    "#call a random summary\n",
    "examples = []\n",
    "for i in range(4):\n",
    "    j = np.random.randint(0, len(df))\n",
    "    examples.append(j)\n",
    "    print(df['summary'][j])\n",
    "\n",
    "\n",
    "#define a dictionary of transition words\n",
    "transition_words = ['also', 'although', 'and', 'as', 'because', 'before', 'but', 'by', 'even', 'for', 'from', 'if', 'in', 'into', 'like', 'near', 'of', 'off', 'on', 'since', 'than', 'that', 'the', 'this', 'to', 'until', 'when', 'where', 'while', 'with', 'yet']\n",
    "\n",
    "#count the transition words in the dataframe\n",
    "def count_transition_words(df):\n",
    "    count = 0\n",
    "    for i in range(len(df)):\n",
    "        for word in df['summary'][i].split():\n",
    "            if word in transition_words:\n",
    "                count += 1\n",
    "    return count\n",
    "\n",
    "count_transition_words(df)\n"
   ]
  },
  {
   "cell_type": "code",
   "execution_count": null,
   "metadata": {},
   "outputs": [],
   "source": [
    "# So the next code block is a function that takes the dataframe and splits it into contains and does not contain periods. \n",
    "# I want to find a way to truncate the summaries that contain an awkward ending. This is usually a dependent clause.\n",
    "# A dependent clause can be attached to an independent clause using a comma, semicolon, or transition word. \n",
    "# Trying to figure out how to correctly identify these."
   ]
  },
  {
   "cell_type": "code",
   "execution_count": 79,
   "metadata": {},
   "outputs": [],
   "source": [
    "#call all summaries which do not contain a period as dataframe_A\n",
    "df_A = df[df['summary'].str.contains('\\.') == False]\n",
    "#call all summaries which contain a period as dataframe_B\n",
    "df_B = df[df['summary'].str.contains('\\.') == True]\n",
    "\n",
    "#concatenate the two dataframes\n",
    "df = pd.concat([df_A, df_B])\n",
    "\n",
    "#cut off all summaries after the last period\n",
    "df['summary'] = df['summary'].str.split('.').str[0]\n",
    "\n",
    "#ensure there is a period at the end of each summary\n",
    "df['summary'] = df['summary'] + '.'\n",
    "\n",
    "#"
   ]
  },
  {
   "cell_type": "code",
   "execution_count": 80,
   "metadata": {},
   "outputs": [
    {
     "name": "stdout",
     "output_type": "stream",
     "text": [
      "'Sandpiper prosobonia leucoptera dud islands south indian ocean saint paul island architects north of India, but it is not known whether the birds represent distinct taxon or derive from prehistoric introduction by polynesian seafarers new.\n",
      "Symptoms include memory loss personality changes and hallucinations myocognitive disorder, which is caused by pre-transfusion of proteins that can cause involuntary cells to become misfolded into the system as they are transmitted via normal contact or blood vessels.\n",
      "guatemala is one of the poorest countries in Central America, with nearly two thirds on export trade benefits under U.\n",
      "Max von laue argues that the twins have no self-inflicted acceleration in two separate frames and one for their journey into space with each other at an interval of 2 seconds, according to his famous paper on special relativity from albert undstein'a theory about how different approaches can.\n"
     ]
    }
   ],
   "source": [
    "# print samples from example index\n",
    "for i in examples:\n",
    "    print(df['summary'][i])"
   ]
  }
 ],
 "metadata": {
  "kernelspec": {
   "display_name": "Python 3.10.7 64-bit",
   "language": "python",
   "name": "python3"
  },
  "language_info": {
   "codemirror_mode": {
    "name": "ipython",
    "version": 3
   },
   "file_extension": ".py",
   "mimetype": "text/x-python",
   "name": "python",
   "nbconvert_exporter": "python",
   "pygments_lexer": "ipython3",
   "version": "3.10.7"
  },
  "orig_nbformat": 4,
  "vscode": {
   "interpreter": {
    "hash": "9b22ae5fd5b61c99f633f352d5befee1eb37a3252840a28cdd39be466a59f7df"
   }
  }
 },
 "nbformat": 4,
 "nbformat_minor": 2
}
